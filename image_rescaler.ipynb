{
 "cells": [
  {
   "cell_type": "code",
   "execution_count": 2,
   "id": "4bdcc2e2",
   "metadata": {},
   "outputs": [
    {
     "name": "stderr",
     "output_type": "stream",
     "text": [
      "C:\\Users\\jvcor\\AppData\\Local\\Temp\\ipykernel_16776\\1713863704.py:12: DeprecationWarning: ANTIALIAS is deprecated and will be removed in Pillow 10 (2023-07-01). Use Resampling.LANCZOS instead.\n",
      "  imgResize = img.resize((357, 234), Image.ANTIALIAS)\n"
     ]
    }
   ],
   "source": [
    "#https://stackoverflow.com/questions/45276340/resize-multiple-images-in-a-folder-python\n",
    "\n",
    "from PIL import Image\n",
    "import os\n",
    "\n",
    "source_folder = 'C:/Users/jvcor/Documents/Jupyter files/BIOINF ECG/ptbdb/testBSL/'\n",
    "destination_folder = 'C:/Users/jvcor/Documents/Jupyter files/BIOINF ECG/ptbdb/testBSLRescale/'\n",
    "directory = os.listdir(source_folder)\n",
    "    \n",
    "for item in directory:\n",
    "    img = Image.open(source_folder + item)\n",
    "    imgResize = img.resize((357, 234), Resampling.LANCZOS)\n",
    "    imgResize.save(destination_folder + item[:-4] +'.png', quality = 90)"
   ]
  },
  {
   "cell_type": "code",
   "execution_count": null,
   "id": "2a881723",
   "metadata": {},
   "outputs": [],
   "source": []
  }
 ],
 "metadata": {
  "kernelspec": {
   "display_name": "Python 3 (ipykernel)",
   "language": "python",
   "name": "python3"
  },
  "language_info": {
   "codemirror_mode": {
    "name": "ipython",
    "version": 3
   },
   "file_extension": ".py",
   "mimetype": "text/x-python",
   "name": "python",
   "nbconvert_exporter": "python",
   "pygments_lexer": "ipython3",
   "version": "3.10.8"
  }
 },
 "nbformat": 4,
 "nbformat_minor": 5
}

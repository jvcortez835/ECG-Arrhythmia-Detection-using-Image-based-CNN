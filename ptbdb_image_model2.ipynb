{
 "cells": [
  {
   "cell_type": "code",
   "execution_count": 1,
   "id": "dbe0f790",
   "metadata": {},
   "outputs": [],
   "source": [
    "from keras.preprocessing.image import ImageDataGenerator\n",
    "from keras.models import Sequential\n",
    "from keras.layers import Conv2D, MaxPooling2D\n",
    "from keras.layers import Activation, Dropout, Flatten, Dense\n",
    "from keras import backend as K"
   ]
  },
  {
   "cell_type": "code",
   "execution_count": 2,
   "id": "48ffcc44",
   "metadata": {},
   "outputs": [
    {
     "data": {
      "text/plain": [
       "[PhysicalDevice(name='/physical_device:GPU:0', device_type='GPU')]"
      ]
     },
     "execution_count": 2,
     "metadata": {},
     "output_type": "execute_result"
    }
   ],
   "source": [
    "import tensorflow as tf\n",
    "tf.config.list_physical_devices('GPU')"
   ]
  },
  {
   "cell_type": "code",
   "execution_count": 3,
   "id": "0cc48879",
   "metadata": {},
   "outputs": [],
   "source": [
    "#tf.debugging.set_log_device_placement(True)"
   ]
  },
  {
   "cell_type": "code",
   "execution_count": 4,
   "id": "03890f09",
   "metadata": {},
   "outputs": [],
   "source": [
    "# dimensions of our images.\n",
    "img_width, img_height = 357, 234\n",
    "\n",
    "train_data_dir = 'train2'\n",
    "validation_data_dir = 'validate2'\n",
    "nb_train_samples = 6000\n",
    "nb_validation_samples = 1800\n",
    "epochs = 20\n",
    "batch_size = 50\n",
    "\n",
    "if K.image_data_format() == 'channels_first':\n",
    "    input_shape = (3, img_width, img_height)\n",
    "    print(\"img data format channels_first\")\n",
    "else:\n",
    "    input_shape = (img_width, img_height, 3)\n",
    "\n",
    "model = Sequential()\n",
    "model.add(Conv2D(32, (3, 3), input_shape=input_shape))\n",
    "model.add(Activation('relu'))\n",
    "model.add(MaxPooling2D(pool_size=(2, 2)))\n",
    "\n",
    "model.add(Conv2D(32, (3, 3)))\n",
    "model.add(Activation('relu'))\n",
    "model.add(MaxPooling2D(pool_size=(2, 2)))\n",
    "\n",
    "model.add(Conv2D(64, (3, 3)))\n",
    "model.add(Activation('relu'))\n",
    "model.add(MaxPooling2D(pool_size=(2, 2)))\n",
    "\n",
    "model.add(Flatten())\n",
    "model.add(Dense(64))\n",
    "model.add(Activation('relu'))\n",
    "model.add(Dropout(0.5))\n",
    "model.add(Dense(1)) # for 2 classes\n",
    "#model.add(Activation('softmax'))\n",
    "model.add(Activation('sigmoid'))"
   ]
  },
  {
   "cell_type": "code",
   "execution_count": 5,
   "id": "3be83c67",
   "metadata": {},
   "outputs": [],
   "source": [
    "#model.compile(loss='categorical_crossentropy',\n",
    "model.compile(loss='binary_crossentropy',\n",
    "              optimizer='rmsprop',\n",
    "              metrics=['accuracy'])"
   ]
  },
  {
   "cell_type": "code",
   "execution_count": 6,
   "id": "4d0c9001",
   "metadata": {},
   "outputs": [],
   "source": [
    "# this is the augmentation configuration we will use for training\n",
    "train_datagen = ImageDataGenerator(\n",
    "    rescale=1. / 255,\n",
    "    shear_range=0.2,\n",
    "    zoom_range=0.2,\n",
    "    horizontal_flip=True)"
   ]
  },
  {
   "cell_type": "code",
   "execution_count": 7,
   "id": "28e91326",
   "metadata": {},
   "outputs": [
    {
     "name": "stdout",
     "output_type": "stream",
     "text": [
      "Found 6000 images belonging to 2 classes.\n",
      "train_generator\n"
     ]
    }
   ],
   "source": [
    "# this is the augmentation configuration we will use for testing:\n",
    "# only rescaling\n",
    "test_datagen = ImageDataGenerator(rescale=1. / 255)\n",
    "\n",
    "train_generator = train_datagen.flow_from_directory(\n",
    "    train_data_dir,\n",
    "    target_size=(img_width, img_height),\n",
    "    batch_size=batch_size,\n",
    "#    class_mode='categorical')\n",
    "    class_mode='binary')\n",
    "\n",
    "print(\"train_generator\")"
   ]
  },
  {
   "cell_type": "code",
   "execution_count": 8,
   "id": "48d4fdbb",
   "metadata": {},
   "outputs": [
    {
     "name": "stdout",
     "output_type": "stream",
     "text": [
      "Found 1800 images belonging to 2 classes.\n",
      "validation_generator\n"
     ]
    }
   ],
   "source": [
    "validation_generator = test_datagen.flow_from_directory(\n",
    "    validation_data_dir,\n",
    "    target_size=(img_width, img_height),\n",
    "    batch_size=batch_size,\n",
    "#    class_mode='categorical')\n",
    "    class_mode='binary')\n",
    "\n",
    "print(\"validation_generator\")"
   ]
  },
  {
   "cell_type": "code",
   "execution_count": 9,
   "id": "475815da",
   "metadata": {},
   "outputs": [
    {
     "name": "stdout",
     "output_type": "stream",
     "text": [
      "Epoch 1/20\n",
      "120/120 [==============================] - 147s 1s/step - loss: 0.7388 - accuracy: 0.5903 - val_loss: 0.6012 - val_accuracy: 0.6328\n",
      "Epoch 2/20\n",
      "120/120 [==============================] - 104s 866ms/step - loss: 0.5432 - accuracy: 0.7308 - val_loss: 0.4578 - val_accuracy: 0.8089\n",
      "Epoch 3/20\n",
      "120/120 [==============================] - 103s 855ms/step - loss: 0.4691 - accuracy: 0.7878 - val_loss: 0.4899 - val_accuracy: 0.8217\n",
      "Epoch 4/20\n",
      "120/120 [==============================] - 103s 861ms/step - loss: 0.4255 - accuracy: 0.8228 - val_loss: 0.3406 - val_accuracy: 0.8567\n",
      "Epoch 5/20\n",
      "120/120 [==============================] - 104s 867ms/step - loss: 0.4128 - accuracy: 0.8260 - val_loss: 0.5207 - val_accuracy: 0.7894\n",
      "Epoch 6/20\n",
      "120/120 [==============================] - 120s 1s/step - loss: 0.3827 - accuracy: 0.8435 - val_loss: 0.6807 - val_accuracy: 0.7517\n",
      "Epoch 7/20\n",
      "120/120 [==============================] - 105s 870ms/step - loss: 0.3832 - accuracy: 0.8317 - val_loss: 2.0785 - val_accuracy: 0.5444\n",
      "Epoch 8/20\n",
      "120/120 [==============================] - 102s 850ms/step - loss: 0.3693 - accuracy: 0.8428 - val_loss: 0.2749 - val_accuracy: 0.8878\n",
      "Epoch 9/20\n",
      "120/120 [==============================] - 102s 853ms/step - loss: 0.3477 - accuracy: 0.8548 - val_loss: 0.2907 - val_accuracy: 0.8778\n",
      "Epoch 10/20\n",
      "120/120 [==============================] - 103s 858ms/step - loss: 0.3362 - accuracy: 0.8608 - val_loss: 0.2497 - val_accuracy: 0.8961\n",
      "Epoch 11/20\n",
      "120/120 [==============================] - 103s 861ms/step - loss: 0.3306 - accuracy: 0.8660 - val_loss: 0.3240 - val_accuracy: 0.8678\n",
      "Epoch 12/20\n",
      "120/120 [==============================] - 105s 871ms/step - loss: 0.3309 - accuracy: 0.8648 - val_loss: 0.5688 - val_accuracy: 0.8039\n",
      "Epoch 13/20\n",
      "120/120 [==============================] - 105s 873ms/step - loss: 0.3242 - accuracy: 0.8673 - val_loss: 0.2835 - val_accuracy: 0.8839\n",
      "Epoch 14/20\n",
      "120/120 [==============================] - 113s 942ms/step - loss: 0.3213 - accuracy: 0.8705 - val_loss: 0.2267 - val_accuracy: 0.9000\n",
      "Epoch 15/20\n",
      "120/120 [==============================] - 101s 840ms/step - loss: 0.3365 - accuracy: 0.8707 - val_loss: 0.2518 - val_accuracy: 0.9083\n",
      "Epoch 16/20\n",
      "120/120 [==============================] - 99s 827ms/step - loss: 0.3116 - accuracy: 0.8730 - val_loss: 0.2245 - val_accuracy: 0.9150\n",
      "Epoch 17/20\n",
      "120/120 [==============================] - 100s 836ms/step - loss: 0.2996 - accuracy: 0.8778 - val_loss: 0.3277 - val_accuracy: 0.9011\n",
      "Epoch 18/20\n",
      "120/120 [==============================] - 98s 814ms/step - loss: 0.3227 - accuracy: 0.8715 - val_loss: 0.2646 - val_accuracy: 0.8944\n",
      "Epoch 19/20\n",
      "120/120 [==============================] - 99s 823ms/step - loss: 0.2900 - accuracy: 0.8807 - val_loss: 0.2786 - val_accuracy: 0.9006\n",
      "Epoch 20/20\n",
      "120/120 [==============================] - 97s 809ms/step - loss: 0.2885 - accuracy: 0.8870 - val_loss: 0.2479 - val_accuracy: 0.9172\n"
     ]
    },
    {
     "data": {
      "text/plain": [
       "<keras.callbacks.History at 0x2ad0f1c45b0>"
      ]
     },
     "execution_count": 9,
     "metadata": {},
     "output_type": "execute_result"
    }
   ],
   "source": [
    "model.fit(\n",
    "    train_generator,\n",
    "    steps_per_epoch=nb_train_samples // batch_size,\n",
    "    epochs=epochs,\n",
    "    validation_data=validation_generator,\n",
    "    validation_steps=nb_validation_samples // batch_size)\n",
    "\n"
   ]
  },
  {
   "cell_type": "code",
   "execution_count": 10,
   "id": "9e3bb07e",
   "metadata": {},
   "outputs": [
    {
     "name": "stdout",
     "output_type": "stream",
     "text": [
      "fit_generator\n",
      "saved model and weights\n"
     ]
    }
   ],
   "source": [
    "print(\"fit_generator\")\n",
    "model.save('model2.h5')\n",
    "model.save_weights('weights2.h5')\n",
    "\n",
    "print(\"saved model and weights\")"
   ]
  }
 ],
 "metadata": {
  "kernelspec": {
   "display_name": "Python 3 (ipykernel)",
   "language": "python",
   "name": "python3"
  },
  "language_info": {
   "codemirror_mode": {
    "name": "ipython",
    "version": 3
   },
   "file_extension": ".py",
   "mimetype": "text/x-python",
   "name": "python",
   "nbconvert_exporter": "python",
   "pygments_lexer": "ipython3",
   "version": "3.10.8"
  }
 },
 "nbformat": 4,
 "nbformat_minor": 5
}
